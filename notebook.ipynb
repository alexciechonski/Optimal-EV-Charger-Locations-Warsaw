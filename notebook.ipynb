{
 "cells": [
  {
   "cell_type": "code",
   "execution_count": null,
   "metadata": {},
   "outputs": [],
   "source": [
    "import json\n",
    "with open('results.json','r') as f:\n",
    "    data = json.load(f)\n",
    "data = data[0]\n",
    "res = {}\n",
    "for i in range(len(data)):\n",
    "    res[i+1] = {'lat':data[i]['latitude'], 'lon':data[i]['longitude']}\n",
    "    \n",
    "with open('parking_lots.json','w') as f:\n",
    "    json.dump(res, f, indent=2)"
   ]
  },
  {
   "cell_type": "code",
   "execution_count": 2,
   "metadata": {},
   "outputs": [],
   "source": [
    "import json \n",
    "from minimum_cost import MinimumCost as mc\n",
    "with open('parking_lots.json','r') as f:\n",
    "    parkings = json.load(f)\n",
    "\n",
    "for n, data in parkings.items():\n",
    "    lat = data['lat']\n",
    "    lon = data['lon']\n",
    "    cords = (lat,lon)\n",
    "    address = mc.c2a(cords)\n",
    "    data['address'] = address\n",
    "\n",
    "with open('pl2.json','w') as f:\n",
    "    json.dump(parkings, f, indent=2) "
   ]
  },
  {
   "cell_type": "code",
   "execution_count": null,
   "metadata": {},
   "outputs": [],
   "source": [
    "from distances import Distances as dst\n",
    "import json\n",
    "import osmnx as ox \n",
    "import networkx as nx\n",
    "import requests\n",
    "from time import perf_counter\n",
    "import numpy as np\n",
    "import numpy as np\n",
    "\n",
    "def find_roads_within_range(lat, lon):\n",
    "    # Define a bounding box around the coordinates with a specified distance in meters\n",
    "    north, south, east, west = ox.utils_geo.bbox_from_point((lat, lon), dist=4000)\n",
    "    \n",
    "    # Fetch the graph with a custom filter if provided\n",
    "    filter1 = '[\"highway\"~\"motorway|trunk|primary|secondary|motorway_link|trunk_link|primary_link\"]'\n",
    "    filter2 = '[\"highway\"~\"motorway|trunk|primary|motorway_link|trunk_link|primary_link\"]'\n",
    "    graph = ox.graph_from_bbox(north, south, east, west, custom_filter=filter1)\n",
    "    \n",
    "    # Convert the graph to GeoDataFrame of edges\n",
    "    edges_gdf = ox.graph_to_gdfs(graph, nodes=False, edges=True)\n",
    "    \n",
    "    # Filter edges to include only those with non-empty name attribute\n",
    "    named_edges = edges_gdf.dropna(subset=['name'])\n",
    "    \n",
    "    # Flatten the lists in the 'name' column\n",
    "    named_edges['name'] = named_edges['name'].apply(lambda x: x[0] if isinstance(x, list) else x)\n",
    "    \n",
    "    # Return the GeoDataFrame containing roads within the range and matching the custom filter\n",
    "    return list(set(named_edges['name']))\n",
    "\n",
    "with open('updated_parkings.json','r') as f:\n",
    "    parkings = json.load(f)\n",
    "    \n",
    "for n, data in parkings.items():\n",
    "    lat = data['lat']\n",
    "    lon = data['lon']\n",
    "    lst = find_roads_within_range(lat, lon)\n",
    "    num = len(lst)\n",
    "    parkings[n]['roads_num'] = num\n",
    "\n",
    "with open('u2p.json', 'w') as f:\n",
    "    json.dump(parkings, f, indent=2)"
   ]
  },
  {
   "cell_type": "code",
   "execution_count": 2,
   "metadata": {},
   "outputs": [],
   "source": [
    "import json\n",
    "\n",
    "def update_json_with_addresses(location_file, address_file, output_file):\n",
    "    # Load location data\n",
    "    with open(location_file, 'r') as file:\n",
    "        locations = json.load(file)\n",
    "    \n",
    "    # Load address data\n",
    "    with open(address_file, 'r') as file:\n",
    "        addresses = json.load(file)\n",
    "    \n",
    "    # Update locations with address data\n",
    "    for key, value in locations.items():\n",
    "        if key in addresses:\n",
    "            # Assuming that the addresses JSON only contains an 'address' key per id\n",
    "            locations[key]['address'] = addresses[key]['address']\n",
    "    \n",
    "    # Write the updated JSON data to a file\n",
    "    with open(output_file, 'w', encoding='utf-8') as file:\n",
    "        json.dump(locations, file, ensure_ascii=False, indent=4)\n",
    "\n",
    "# Example usage of the function\n",
    "location_file = 'u2p.json'  # Your original location data JSON\n",
    "address_file = 'pl2.json'  # The JSON file with address information\n",
    "output_file = 'updated_locations.json'  # File where the updated JSON will be stored\n",
    "\n",
    "update_json_with_addresses(location_file, address_file, output_file)\n"
   ]
  }
 ],
 "metadata": {
  "kernelspec": {
   "display_name": "Python 3.11.1 64-bit",
   "language": "python",
   "name": "python3"
  },
  "language_info": {
   "codemirror_mode": {
    "name": "ipython",
    "version": 3
   },
   "file_extension": ".py",
   "mimetype": "text/x-python",
   "name": "python",
   "nbconvert_exporter": "python",
   "pygments_lexer": "ipython3",
   "version": "3.11.1"
  },
  "orig_nbformat": 4,
  "vscode": {
   "interpreter": {
    "hash": "aee8b7b246df8f9039afb4144a1f6fd8d2ca17a180786b69acc140d282b71a49"
   }
  }
 },
 "nbformat": 4,
 "nbformat_minor": 2
}
